{
  "nbformat": 4,
  "nbformat_minor": 0,
  "metadata": {
    "colab": {
      "provenance": [],
      "authorship_tag": "ABX9TyOshqxn7uNCi+qbNs9/wga7",
      "include_colab_link": true
    },
    "kernelspec": {
      "name": "python3",
      "display_name": "Python 3"
    },
    "language_info": {
      "name": "python"
    }
  },
  "cells": [
    {
      "cell_type": "markdown",
      "metadata": {
        "id": "view-in-github",
        "colab_type": "text"
      },
      "source": [
        "<a href=\"https://colab.research.google.com/github/Arvind-Khoda/ML_Exp/blob/main/exp_2.ipynb\" target=\"_parent\"><img src=\"https://colab.research.google.com/assets/colab-badge.svg\" alt=\"Open In Colab\"/></a>"
      ]
    },
    {
      "cell_type": "markdown",
      "source": [
        "#Programs for Pandas Library "
      ],
      "metadata": {
        "id": "q99I26Jy8ko1"
      }
    },
    {
      "cell_type": "markdown",
      "source": [
        "1.Importing Dataset"
      ],
      "metadata": {
        "id": "QhGvUrWi8hN0"
      }
    },
    {
      "cell_type": "code",
      "source": [
        "import pandas as pd\n",
        "data=pd.read_csv(\"/content/apy_1.csv\")"
      ],
      "metadata": {
        "id": "mQ61Ivgx8ZA7"
      },
      "execution_count": 2,
      "outputs": []
    },
    {
      "cell_type": "markdown",
      "source": [
        "2.Displaying samples from data"
      ],
      "metadata": {
        "id": "sJcO-z9s8fRX"
      }
    },
    {
      "cell_type": "code",
      "source": [
        "data.sample(10)"
      ],
      "metadata": {
        "colab": {
          "base_uri": "https://localhost:8080/",
          "height": 363
        },
        "id": "CCmiymrp883l",
        "outputId": "24304165-3ed8-4621-fbd6-6f47fd4b9869"
      },
      "execution_count": 3,
      "outputs": [
        {
          "output_type": "execute_result",
          "data": {
            "text/plain": [
              "       Unnamed: 0      State_Name   District_Name  Crop_Year       Season  \\\n",
              "55718       55718       Karnataka         DHARWAD       2007  Kharif        \n",
              "42221       42221   Uttar Pradesh         JAUNPUR       2001  Rabi          \n",
              "26735       26735           Bihar       JEHANABAD       2005  Whole Year    \n",
              "65364       65364  Madhya Pradesh         DINDORI       2013  Whole Year    \n",
              "66990       66990          Kerala  PATHANAMTHITTA       2005  Whole Year    \n",
              "21492       21492      Tamil Nadu      PERAMBALUR       2008  Whole Year    \n",
              "48451       48451     West Bengal  MEDINIPUR EAST       2008  Autumn        \n",
              "15556       15556     West Bengal     MURSHIDABAD       1999  Kharif        \n",
              "21078       21078   Uttar Pradesh           GONDA       2000  Rabi          \n",
              "53357       53357       Rajasthan        BHILWARA       2003  Kharif        \n",
              "\n",
              "                    Crop      Area  Production  \n",
              "55718           Soyabean   24847.0     13620.0  \n",
              "42221            Linseed      36.0        14.0  \n",
              "26735       Dry chillies      30.0        29.0  \n",
              "65364              Onion      76.0      1324.0  \n",
              "66990             Banana    2583.0     23302.0  \n",
              "21492          Groundnut    2388.0     35641.0  \n",
              "48451            Sesamum      40.0        16.0  \n",
              "15556               Jute  141641.0   1943340.0  \n",
              "21078  Rapeseed &Mustard    6109.0      3706.0  \n",
              "53357              Bajra    3578.0      4067.0  "
            ],
            "text/html": [
              "\n",
              "  <div id=\"df-5c884579-b2d2-45ec-b8bd-6597ccdd46ea\">\n",
              "    <div class=\"colab-df-container\">\n",
              "      <div>\n",
              "<style scoped>\n",
              "    .dataframe tbody tr th:only-of-type {\n",
              "        vertical-align: middle;\n",
              "    }\n",
              "\n",
              "    .dataframe tbody tr th {\n",
              "        vertical-align: top;\n",
              "    }\n",
              "\n",
              "    .dataframe thead th {\n",
              "        text-align: right;\n",
              "    }\n",
              "</style>\n",
              "<table border=\"1\" class=\"dataframe\">\n",
              "  <thead>\n",
              "    <tr style=\"text-align: right;\">\n",
              "      <th></th>\n",
              "      <th>Unnamed: 0</th>\n",
              "      <th>State_Name</th>\n",
              "      <th>District_Name</th>\n",
              "      <th>Crop_Year</th>\n",
              "      <th>Season</th>\n",
              "      <th>Crop</th>\n",
              "      <th>Area</th>\n",
              "      <th>Production</th>\n",
              "    </tr>\n",
              "  </thead>\n",
              "  <tbody>\n",
              "    <tr>\n",
              "      <th>55718</th>\n",
              "      <td>55718</td>\n",
              "      <td>Karnataka</td>\n",
              "      <td>DHARWAD</td>\n",
              "      <td>2007</td>\n",
              "      <td>Kharif</td>\n",
              "      <td>Soyabean</td>\n",
              "      <td>24847.0</td>\n",
              "      <td>13620.0</td>\n",
              "    </tr>\n",
              "    <tr>\n",
              "      <th>42221</th>\n",
              "      <td>42221</td>\n",
              "      <td>Uttar Pradesh</td>\n",
              "      <td>JAUNPUR</td>\n",
              "      <td>2001</td>\n",
              "      <td>Rabi</td>\n",
              "      <td>Linseed</td>\n",
              "      <td>36.0</td>\n",
              "      <td>14.0</td>\n",
              "    </tr>\n",
              "    <tr>\n",
              "      <th>26735</th>\n",
              "      <td>26735</td>\n",
              "      <td>Bihar</td>\n",
              "      <td>JEHANABAD</td>\n",
              "      <td>2005</td>\n",
              "      <td>Whole Year</td>\n",
              "      <td>Dry chillies</td>\n",
              "      <td>30.0</td>\n",
              "      <td>29.0</td>\n",
              "    </tr>\n",
              "    <tr>\n",
              "      <th>65364</th>\n",
              "      <td>65364</td>\n",
              "      <td>Madhya Pradesh</td>\n",
              "      <td>DINDORI</td>\n",
              "      <td>2013</td>\n",
              "      <td>Whole Year</td>\n",
              "      <td>Onion</td>\n",
              "      <td>76.0</td>\n",
              "      <td>1324.0</td>\n",
              "    </tr>\n",
              "    <tr>\n",
              "      <th>66990</th>\n",
              "      <td>66990</td>\n",
              "      <td>Kerala</td>\n",
              "      <td>PATHANAMTHITTA</td>\n",
              "      <td>2005</td>\n",
              "      <td>Whole Year</td>\n",
              "      <td>Banana</td>\n",
              "      <td>2583.0</td>\n",
              "      <td>23302.0</td>\n",
              "    </tr>\n",
              "    <tr>\n",
              "      <th>21492</th>\n",
              "      <td>21492</td>\n",
              "      <td>Tamil Nadu</td>\n",
              "      <td>PERAMBALUR</td>\n",
              "      <td>2008</td>\n",
              "      <td>Whole Year</td>\n",
              "      <td>Groundnut</td>\n",
              "      <td>2388.0</td>\n",
              "      <td>35641.0</td>\n",
              "    </tr>\n",
              "    <tr>\n",
              "      <th>48451</th>\n",
              "      <td>48451</td>\n",
              "      <td>West Bengal</td>\n",
              "      <td>MEDINIPUR EAST</td>\n",
              "      <td>2008</td>\n",
              "      <td>Autumn</td>\n",
              "      <td>Sesamum</td>\n",
              "      <td>40.0</td>\n",
              "      <td>16.0</td>\n",
              "    </tr>\n",
              "    <tr>\n",
              "      <th>15556</th>\n",
              "      <td>15556</td>\n",
              "      <td>West Bengal</td>\n",
              "      <td>MURSHIDABAD</td>\n",
              "      <td>1999</td>\n",
              "      <td>Kharif</td>\n",
              "      <td>Jute</td>\n",
              "      <td>141641.0</td>\n",
              "      <td>1943340.0</td>\n",
              "    </tr>\n",
              "    <tr>\n",
              "      <th>21078</th>\n",
              "      <td>21078</td>\n",
              "      <td>Uttar Pradesh</td>\n",
              "      <td>GONDA</td>\n",
              "      <td>2000</td>\n",
              "      <td>Rabi</td>\n",
              "      <td>Rapeseed &amp;Mustard</td>\n",
              "      <td>6109.0</td>\n",
              "      <td>3706.0</td>\n",
              "    </tr>\n",
              "    <tr>\n",
              "      <th>53357</th>\n",
              "      <td>53357</td>\n",
              "      <td>Rajasthan</td>\n",
              "      <td>BHILWARA</td>\n",
              "      <td>2003</td>\n",
              "      <td>Kharif</td>\n",
              "      <td>Bajra</td>\n",
              "      <td>3578.0</td>\n",
              "      <td>4067.0</td>\n",
              "    </tr>\n",
              "  </tbody>\n",
              "</table>\n",
              "</div>\n",
              "      <button class=\"colab-df-convert\" onclick=\"convertToInteractive('df-5c884579-b2d2-45ec-b8bd-6597ccdd46ea')\"\n",
              "              title=\"Convert this dataframe to an interactive table.\"\n",
              "              style=\"display:none;\">\n",
              "        \n",
              "  <svg xmlns=\"http://www.w3.org/2000/svg\" height=\"24px\"viewBox=\"0 0 24 24\"\n",
              "       width=\"24px\">\n",
              "    <path d=\"M0 0h24v24H0V0z\" fill=\"none\"/>\n",
              "    <path d=\"M18.56 5.44l.94 2.06.94-2.06 2.06-.94-2.06-.94-.94-2.06-.94 2.06-2.06.94zm-11 1L8.5 8.5l.94-2.06 2.06-.94-2.06-.94L8.5 2.5l-.94 2.06-2.06.94zm10 10l.94 2.06.94-2.06 2.06-.94-2.06-.94-.94-2.06-.94 2.06-2.06.94z\"/><path d=\"M17.41 7.96l-1.37-1.37c-.4-.4-.92-.59-1.43-.59-.52 0-1.04.2-1.43.59L10.3 9.45l-7.72 7.72c-.78.78-.78 2.05 0 2.83L4 21.41c.39.39.9.59 1.41.59.51 0 1.02-.2 1.41-.59l7.78-7.78 2.81-2.81c.8-.78.8-2.07 0-2.86zM5.41 20L4 18.59l7.72-7.72 1.47 1.35L5.41 20z\"/>\n",
              "  </svg>\n",
              "      </button>\n",
              "      \n",
              "  <style>\n",
              "    .colab-df-container {\n",
              "      display:flex;\n",
              "      flex-wrap:wrap;\n",
              "      gap: 12px;\n",
              "    }\n",
              "\n",
              "    .colab-df-convert {\n",
              "      background-color: #E8F0FE;\n",
              "      border: none;\n",
              "      border-radius: 50%;\n",
              "      cursor: pointer;\n",
              "      display: none;\n",
              "      fill: #1967D2;\n",
              "      height: 32px;\n",
              "      padding: 0 0 0 0;\n",
              "      width: 32px;\n",
              "    }\n",
              "\n",
              "    .colab-df-convert:hover {\n",
              "      background-color: #E2EBFA;\n",
              "      box-shadow: 0px 1px 2px rgba(60, 64, 67, 0.3), 0px 1px 3px 1px rgba(60, 64, 67, 0.15);\n",
              "      fill: #174EA6;\n",
              "    }\n",
              "\n",
              "    [theme=dark] .colab-df-convert {\n",
              "      background-color: #3B4455;\n",
              "      fill: #D2E3FC;\n",
              "    }\n",
              "\n",
              "    [theme=dark] .colab-df-convert:hover {\n",
              "      background-color: #434B5C;\n",
              "      box-shadow: 0px 1px 3px 1px rgba(0, 0, 0, 0.15);\n",
              "      filter: drop-shadow(0px 1px 2px rgba(0, 0, 0, 0.3));\n",
              "      fill: #FFFFFF;\n",
              "    }\n",
              "  </style>\n",
              "\n",
              "      <script>\n",
              "        const buttonEl =\n",
              "          document.querySelector('#df-5c884579-b2d2-45ec-b8bd-6597ccdd46ea button.colab-df-convert');\n",
              "        buttonEl.style.display =\n",
              "          google.colab.kernel.accessAllowed ? 'block' : 'none';\n",
              "\n",
              "        async function convertToInteractive(key) {\n",
              "          const element = document.querySelector('#df-5c884579-b2d2-45ec-b8bd-6597ccdd46ea');\n",
              "          const dataTable =\n",
              "            await google.colab.kernel.invokeFunction('convertToInteractive',\n",
              "                                                     [key], {});\n",
              "          if (!dataTable) return;\n",
              "\n",
              "          const docLinkHtml = 'Like what you see? Visit the ' +\n",
              "            '<a target=\"_blank\" href=https://colab.research.google.com/notebooks/data_table.ipynb>data table notebook</a>'\n",
              "            + ' to learn more about interactive tables.';\n",
              "          element.innerHTML = '';\n",
              "          dataTable['output_type'] = 'display_data';\n",
              "          await google.colab.output.renderOutput(dataTable, element);\n",
              "          const docLink = document.createElement('div');\n",
              "          docLink.innerHTML = docLinkHtml;\n",
              "          element.appendChild(docLink);\n",
              "        }\n",
              "      </script>\n",
              "    </div>\n",
              "  </div>\n",
              "  "
            ]
          },
          "metadata": {},
          "execution_count": 3
        }
      ]
    },
    {
      "cell_type": "markdown",
      "source": [
        "3.Finding Information About Dataset"
      ],
      "metadata": {
        "id": "dAXPFGUw9CwB"
      }
    },
    {
      "cell_type": "code",
      "source": [
        "data.info()"
      ],
      "metadata": {
        "colab": {
          "base_uri": "https://localhost:8080/"
        },
        "id": "SzyDH9sR9RSN",
        "outputId": "3af78a8d-341c-4606-98a7-e16e32e37c3f"
      },
      "execution_count": 4,
      "outputs": [
        {
          "output_type": "stream",
          "name": "stdout",
          "text": [
            "<class 'pandas.core.frame.DataFrame'>\n",
            "RangeIndex: 73827 entries, 0 to 73826\n",
            "Data columns (total 8 columns):\n",
            " #   Column         Non-Null Count  Dtype  \n",
            "---  ------         --------------  -----  \n",
            " 0   Unnamed: 0     73827 non-null  int64  \n",
            " 1   State_Name     73827 non-null  object \n",
            " 2   District_Name  73827 non-null  object \n",
            " 3   Crop_Year      73827 non-null  int64  \n",
            " 4   Season         73827 non-null  object \n",
            " 5   Crop           73827 non-null  object \n",
            " 6   Area           73827 non-null  float64\n",
            " 7   Production     72731 non-null  float64\n",
            "dtypes: float64(2), int64(2), object(4)\n",
            "memory usage: 4.5+ MB\n"
          ]
        }
      ]
    },
    {
      "cell_type": "markdown",
      "source": [
        "4.Finding Unique Value for columns"
      ],
      "metadata": {
        "id": "WIVH2bTc9yLv"
      }
    },
    {
      "cell_type": "code",
      "source": [
        "for col in data.columns:\n",
        "    print(f\"Unique values in {col} :\")\n",
        "    print(data[col].unique())\n",
        "    print()"
      ],
      "metadata": {
        "colab": {
          "base_uri": "https://localhost:8080/"
        },
        "id": "lpwvJFfC9nI8",
        "outputId": "dcf9fafc-2708-41d5-dd15-9223559b39ff"
      },
      "execution_count": 18,
      "outputs": [
        {
          "output_type": "stream",
          "name": "stdout",
          "text": [
            "Unique values in Unnamed: 0 :\n",
            "[    0     1     2 ... 73824 73825 73826]\n",
            "\n",
            "Unique values in State_Name :\n",
            "['Bihar' 'Assam' 'Gujarat' 'Karnataka' 'Uttar Pradesh' 'Odisha'\n",
            " 'Rajasthan' 'Chhattisgarh' 'Tamil Nadu' 'Haryana' 'Kerala'\n",
            " 'Madhya Pradesh' 'West Bengal' 'Punjab' 'Andhra Pradesh' 'Maharashtra'\n",
            " 'Telangana ' 'Nagaland' 'Meghalaya' 'Jharkhand' 'Uttarakhand'\n",
            " 'Himachal Pradesh' 'Arunachal Pradesh' 'Mizoram' 'Manipur' 'Puducherry'\n",
            " 'Dadra and Nagar Haveli' 'Chandigarh' 'Sikkim' 'Tripura'\n",
            " 'Jammu and Kashmir ' 'Goa' 'Andaman and Nicobar Islands']\n",
            "\n",
            "Unique values in District_Name :\n",
            "['NALANDA' 'KARBI ANGLONG' 'ANAND' 'UTTAR KANNAD' 'JAUNPUR' 'MARIGAON'\n",
            " 'SONEPUR' 'DHOLPUR' 'BELGAUM' 'MUNGER' 'JANJGIR-CHAMPA' 'SHRAVASTI'\n",
            " 'PATAN' 'KARUR' 'KASGANJ' 'MAHENDRAGARH' 'DHEMAJI' 'BAKSA'\n",
            " 'PATHANAMTHITTA' 'DHAMTARI' 'BELLARY' 'TINSUKIA' 'RAE BARELI' 'KOLAR'\n",
            " 'NEEMUCH' 'BARDHAMAN' 'NAYAGARH' 'AMRITSAR' 'BANSWARA' 'KADAPA'\n",
            " 'NABARANGPUR' 'BHIWANI' 'SHEOHAR' 'PUDUKKOTTAI' 'MADHEPURA' 'SUKMA'\n",
            " 'PARBHANI' 'SRIKAKULAM' 'EAST GODAVARI' 'BIJAPUR' 'NAWADA' 'REWARI'\n",
            " 'PILIBHIT' 'BULDHANA' 'DINAJPUR UTTAR' 'GONDA' 'WEST GODAVARI'\n",
            " 'JALANDHAR' 'RAIGARH' 'ALWAR' 'RANGAREDDI' 'SIRSA' 'KASARAGOD' 'GAYA'\n",
            " 'KAUSHAMBI' 'SEONI' 'KAITHAL' 'DIMAPUR' 'LATUR' 'CHITRADURGA'\n",
            " 'CHITTORGARH' 'DEORIA' 'NANDED' 'MEDAK' 'MALAPPURAM' 'IDUKKI' 'NADIA'\n",
            " 'GONDIA' 'DIMA HASAO' 'CHITTOOR' 'WASHIM' 'AZAMGARH' 'BOUDH' 'KOTA'\n",
            " 'KENDRAPARA' 'RAISEN' 'WEST GARO HILLS' 'BUNDI' 'GODDA' 'RAMPUR'\n",
            " 'SIDDHARTH NAGAR' 'FAIZABAD' 'DINDIGUL' 'BEMETARA' 'TUENSANG' 'GOALPARA'\n",
            " 'TIRUVANNAMALAI' 'ANANTAPUR' 'SUNDARGARH' 'BARGARH' 'HATHRAS' 'JALAUN'\n",
            " 'SANT KABEER NAGAR' 'RUDRA PRAYAG' 'MORENA' 'BALRAMPUR' 'KULLU'\n",
            " 'KUSHI NAGAR' 'JAJAPUR' 'JAMNAGAR' 'COIMBATORE' 'ERODE' 'KATNI' 'KARAULI'\n",
            " 'DEOGARH' 'PATNA' 'CHANDAULI' 'MAHARAJGANJ' 'KHAGARIA' 'BAREILLY'\n",
            " 'KANPUR DEHAT' 'JHUNJHUNU' 'UPPER SIANG' 'RAMANATHAPURAM' 'KOLASIB'\n",
            " 'BILASPUR' 'KATIHAR' 'NAINITAL' 'AJMER' 'GAJAPATI' 'VIDISHA'\n",
            " 'BANGALORE RURAL' 'KANKER' 'KOLHAPUR' 'BIDAR' 'TAMENGLONG'\n",
            " 'WEST KHASI HILLS' 'VIZIANAGARAM' 'KENDUJHAR' 'PANCHKULA' 'ALLAHABAD'\n",
            " 'MYSORE' 'CHHINDWARA' 'DHULE' 'HARIDWAR' 'SHEIKHPURA' 'SONIPAT'\n",
            " 'BAHRAICH' 'BURHANPUR' 'SANT RAVIDAS NAGAR' 'PITHORAGARH' 'GWALIOR'\n",
            " 'JABALPUR' 'DATIA' 'UDALGURI' 'DARJEELING' 'JAGATSINGHAPUR' 'JHANSI'\n",
            " 'DHUBRI' 'KANNAUJ' 'CUTTACK' 'HOSHIARPUR' 'AKOLA' 'PONDICHERRY' 'PAKUR'\n",
            " 'BALAGHAT' 'VIRUDHUNAGAR' 'CHAMBA' 'JAISALMER' 'CHURU' 'THENI' 'SHEOPUR'\n",
            " '24 PARAGANAS SOUTH' 'SEHORE' 'BAGHPAT' 'ETAWAH' 'YAMUNANAGAR' 'JALNA'\n",
            " 'SARAN' 'SANGLI' 'BEGUSARAI' 'MAHASAMUND' 'BHOPAL' 'ALIRAJPUR' 'UNNAO'\n",
            " 'SAWAI MADHOPUR' 'PAURI GARHWAL' 'BARMER' 'PANNA' 'RAMANAGARA' 'DOHAD'\n",
            " 'LAKHIMPUR' 'MALKANGIRI' 'JASHPUR' 'RAICHUR' 'JEHANABAD'\n",
            " 'THIRUVANANTHAPURAM' 'MADHUBANI' 'RAJKOT' 'MATHURA' 'BARAN' 'DURG'\n",
            " 'MAYURBHANJ' 'BISHNUPUR' 'SAHARSA' 'BANAS KANTHA' 'KISHANGANJ' 'SIROHI'\n",
            " 'LUNGLEI' 'UDAIPUR' 'PALWAL' 'GUNTUR' 'SONBHADRA' 'KHEDA' 'SHAHDOL'\n",
            " 'NALBARI' 'PRAKASAM' 'HOOGHLY' 'AMBEDKAR NAGAR' 'NARSINGHPUR'\n",
            " 'VISAKHAPATANAM' 'NAGAON' 'MUZAFFARNAGAR' 'NAGAUR' 'BHAVNAGAR'\n",
            " 'TEHRI GARHWAL' 'BAGESHWAR' 'JALPAIGURI' 'FIROZEPUR' 'DHARMAPURI' 'KHERI'\n",
            " 'BAGALKOT' 'AHMADABAD' 'SHAJAPUR' 'HAVERI' 'KOZHIKODE' 'SONITPUR'\n",
            " 'BANKURA' 'TUMKUR' 'PURULIA' 'ARARIA' 'KOPPAL' 'PURNIA' 'KABIRDHAM'\n",
            " 'SHIVPURI' 'SULTANPUR' 'CHANGLANG' 'GADCHIROLI' 'BALESHWAR' 'BASTAR'\n",
            " 'JODHPUR' 'SHIMLA' 'MADURAI' 'NAGAPATTINAM' 'SURAT' 'ANUPPUR' 'GUNA'\n",
            " 'DADRA AND NAGAR HAVELI' 'GOPALGANJ' 'JALGAON' 'RATLAM' 'MANDI'\n",
            " 'HANUMANGARH' 'PANIPAT' 'HOWRAH' 'SITAPUR' 'SPSR NELLORE' 'THE NILGIRIS'\n",
            " 'BHOJPUR' 'KONDAGAON' 'SHAHJAHANPUR' 'BHARUCH' 'PUNE' 'BEED' 'CHANDRAPUR'\n",
            " 'REWA' 'KOKRAJHAR' 'MOKOKCHUNG' 'BALLIA' 'CHAMPAWAT' 'KARIMGANJ'\n",
            " 'CHANDIGARH' 'PRATAPGARH' 'ROHTAK' 'NASHIK' 'FARRUKHABAD' 'AURANGABAD'\n",
            " 'KACHCHH' 'JORHAT' 'KRISHNA' 'TAWANG' 'MAINPURI' 'WOKHA' 'UNA'\n",
            " 'VILLUPURAM' 'ETAH' 'BANDA' 'JAMUI' 'VADODARA' 'DINDORI' 'MEDINIPUR WEST'\n",
            " 'JHALAWAR' 'BALODA BAZAR' 'KODAGU' 'MAHBUBNAGAR' 'GANJAM' 'SIRMAUR'\n",
            " 'DARRANG' 'AURAIYA' 'NUAPADA' 'KAMRUP METRO' 'KHORDHA' 'PERAMBALUR'\n",
            " 'ARWAL' 'AGRA' 'LAKHISARAI' 'TIRUCHIRAPPALLI' 'SIVAGANGA' 'SIWAN'\n",
            " 'GANGANAGAR' 'NORTH DISTRICT' 'MANDSAUR' 'WEST TRIPURA' 'MANDYA'\n",
            " 'LOWER DIBANG VALLEY' 'PURBI CHAMPARAN' 'SIDHI' 'GURGAON'\n",
            " 'UPPER SUBANSIRI' 'KATHUA' 'DARBHANGA' 'BHAGALPUR' 'MURSHIDABAD'\n",
            " 'JUNAGADH' 'DHARWAD' 'KAMRUP' 'BETUL' 'HARDA' 'SOUTH GOA'\n",
            " 'BENGALURU URBAN' 'HAMIRPUR' 'SATNA' 'LALITPUR' 'NIZAMABAD' 'BIRBHUM'\n",
            " 'JALORE' 'KHAMMAM' 'REASI' 'SAMASTIPUR' 'KOLLAM' 'VALSAD' 'HAILAKANDI'\n",
            " 'ARIYALUR' 'RAJNANDGAON' 'MEWAT' 'COOCHBEHAR' 'ANUGUL' 'THIRUVARUR'\n",
            " 'SALEM' 'AMRELI' 'BUXAR' 'KHARGONE' 'JHARSUGUDA' 'GORAKHPUR' 'PURI'\n",
            " 'PANCH MAHALS' 'RATNAGIRI' 'BARWANI' 'PALAMU' 'PATIALA' 'ZUNHEBOTO'\n",
            " 'ERNAKULAM' 'BALANGIR' 'DEWAS' 'MANSA' 'UDUPI' 'CHIRANG' 'KRISHNAGIRI'\n",
            " 'HINGOLI' 'CUDDALORE' 'MON' 'KANGRA' 'TIRUNELVELI' 'SIVASAGAR'\n",
            " 'KARIMNAGAR' 'BHIND' 'NORTH TRIPURA' 'SAMBALPUR' 'CACHAR' 'ANANTNAG'\n",
            " 'HISAR' 'DIBRUGARH' 'THANJAVUR' 'FATEHGARH SAHIB' 'MOGA' 'ASHOKNAGAR'\n",
            " 'HOSHANGABAD' 'MAHOBA' 'MEDINIPUR EAST' 'JHAJJAR' 'DHALAI'\n",
            " 'SOUTH GARO HILLS' 'RAIPUR' 'KANCHIPURAM' 'NARAYANPUR' 'BANKA' 'KURNOOL'\n",
            " 'SITAMARHI' 'BHANDARA' 'KOREA' 'RAYAGADA' 'VAISHALI' 'MANDLA' 'DAVANGERE'\n",
            " 'BULANDSHAHR' 'NALGONDA' 'NAGPUR' 'GULBARGA' 'ALIGARH' 'BONGAIGAON'\n",
            " 'SABAR KANTHA' 'INDORE' 'DANTEWADA' 'HARDOI' 'SHIMOGA' 'WAYANAD'\n",
            " 'FIROZABAD' 'ADILABAD' 'KANPUR NAGAR' 'AMROHA' 'HASSAN' 'TIKAMGARH'\n",
            " 'PORBANDAR' 'KANNUR' 'GAUTAM BUDDHA NAGAR' 'KALAHANDI' 'RUPNAGAR'\n",
            " 'SURENDRANAGAR' 'BASTI' 'KORBA' 'EAST GARO HILLS' 'KHANDWA' 'MAHE' 'PALI'\n",
            " 'MAHESANA' 'SANGRUR' 'KANNIYAKUMARI' 'PEREN' 'LUCKNOW' 'SAHARANPUR'\n",
            " 'UDHAMPUR' 'SIKAR' 'JHABUA' 'KARAIKAL' 'DAMOH' 'CHHATARPUR' 'IMPHAL WEST'\n",
            " 'SOUTH WEST KHASI HILLS' 'DINAJPUR DAKSHIN' 'BARABANKI' 'CHIKBALLAPUR'\n",
            " 'WARANGAL' 'FATEHABAD' 'DEHRADUN' 'BARAMULLA' 'MEERUT' 'VELLORE'\n",
            " 'MUKTSAR' 'SURGUJA' 'BUDAUN' 'KIPHIRE' 'SRINAGAR' 'MUZAFFARPUR' 'UMARIA'\n",
            " 'MUNGELI' 'NAMAKKAL' 'GOLAGHAT' 'VARANASI' 'MALDAH' 'DAUSA' 'CHIKMAGALUR'\n",
            " 'CHURACHANDPUR' 'TUTICORIN' 'RI BHOI' 'RAJGARH' 'AMRAVATI' 'BARPETA'\n",
            " 'SEPAHIJALA' 'UKHRUL' 'ROHTAS' 'PAPUM PARE' 'CHITRAKOOT' 'TONK'\n",
            " 'BHILWARA' 'KINNAUR' 'SOUTH TRIPURA' 'KOHIMA' 'DAKSHIN KANNAD' 'JAIPUR'\n",
            " 'LONGLENG' 'KANDHAMAL' 'MORADABAD' 'DUNGARPUR' 'AMBALA' 'RAIGAD'\n",
            " 'SINDHUDURG' 'KARNAL' 'DIBANG VALLEY' 'YAVATMAL' 'DHENKANAL' 'GHAZIPUR'\n",
            " 'GOMATI' 'KOTTAYAM' 'THRISSUR' 'DHAR' 'BIJNOR' 'UDAM SINGH NAGAR'\n",
            " 'CHAMPHAI' 'SAGAR' 'SOUTH ANDAMANS' 'EAST KHASI HILLS' 'KAIMUR (BHABUA)'\n",
            " 'SINGRAULI' 'UTTAR KASHI' 'LOWER SUBANSIRI' 'KURUKSHETRA' 'KORAPUT'\n",
            " 'EAST JAINTIA HILLS' 'MAMIT' 'THIRUVALLUR' 'SATARA' 'TIRUPPUR' 'FARIDKOT'\n",
            " 'CHAMOLI' 'ALAPPUZHA' 'GADAG' 'RAJSAMAND' 'GHAZIABAD' 'UNAKOTI' 'BIKANER'\n",
            " 'SOLAPUR' 'BHARATPUR' 'UJJAIN' 'PALAKKAD' 'GARIYABAND' 'BHADRAK'\n",
            " '24 PARAGANAS NORTH' 'SUPAUL' 'SOUTH DISTRICT' 'SOLAN' 'WARDHA'\n",
            " 'AHMEDNAGAR' 'GURDASPUR' 'CHAMARAJANAGAR' 'SENAPATI' 'CHANDEL' 'JIND'\n",
            " 'LATEHAR' 'EAST DISTRICT' 'TIRAP' 'KODERMA' 'THANE' 'FATEHPUR'\n",
            " 'EAST SIANG' 'DUMKA' 'AIZAWL' 'BOKARO' 'PASHCHIM CHAMPARAN' 'MAU'\n",
            " 'AMETHI' 'BALOD' 'PHEK' 'YADGIR' 'WEST SIANG' 'NARMADA' 'MIRZAPUR'\n",
            " 'SHAMLI' 'GANDERBAL' 'ALMORA' 'NAVSARI' 'SURAJPUR' 'NANDURBAR'\n",
            " 'WEST KAMENG' 'FARIDABAD' 'NICOBARS' 'DODA' 'JAMMU' 'GARHWA' 'OSMANABAD'\n",
            " 'LEH LADAKH' 'SOUTH WEST GARO HILLS' 'YANAM' 'HAPUR' 'SIMDEGA' 'BARNALA'\n",
            " 'BATHINDA' 'LOHIT' 'BADGAM' 'KURUNG KUMEY' 'WEST DISTRICT' 'LAWNGTLAI'\n",
            " 'IMPHAL EAST' 'SAIHA' 'CHATRA' 'EAST KAMENG' 'KISHTWAR' 'DANG' 'GIRIDIH'\n",
            " 'PULWAMA' 'NORTH GOA' 'SAHEBGANJ' 'JAMTARA' 'ANJAW'\n",
            " 'NORTH AND MIDDLE ANDAMAN' 'THOUBAL' 'RANCHI' 'TARN TARAN' 'SAMBHAL'\n",
            " 'NAWANSHAHR' 'FAZILKA' 'GANDHINAGAR' 'KHOWAI' 'SARAIKELA KHARSAWAN'\n",
            " 'RAJAURI' 'SHOPIAN' 'HYDERABAD' 'NORTH GARO HILLS' 'GUMLA' 'HAZARIBAGH'\n",
            " 'LOHARDAGA' 'SERCHHIP' 'DHANBAD' 'KUPWARA' 'LUDHIANA' 'S.A.S NAGAR'\n",
            " 'WEST SINGHBHUM' 'WEST JAINTIA HILLS' 'MUMBAI' 'KAPURTHALA'\n",
            " 'EAST SINGHBUM' 'DEOGHAR' 'POONCH' 'LAHUL AND SPITI' 'KARGIL'\n",
            " 'AGAR MALWA' 'TAPI' 'KULGAM' 'PATHANKOT' 'BANDIPORA' 'RAMGARH' 'SAMBA'\n",
            " 'RAMBAN' 'LONGDING' 'PALGHAR' 'NAMSAI' 'KHUNTI']\n",
            "\n",
            "Unique values in Crop_Year :\n",
            "[1997 2011 2012 2005 2008 2006 1998 2009 2010 2000 2007 2003 2004 2013\n",
            " 2002 2001 1999 2014 2015]\n",
            "\n",
            "Unique values in Season :\n",
            "['Rabi       ' 'Whole Year ' 'Summer     ' 'Winter     ' 'Kharif     '\n",
            " 'Autumn     ']\n",
            "\n",
            "Unique values in Crop :\n",
            "['Wheat' 'Onion' 'Maize' 'Groundnut' 'Rapeseed &Mustard' 'Garlic'\n",
            " 'Coconut ' 'Moong(Green Gram)' 'Other Kharif pulses' 'Sweet potato'\n",
            " 'Tobacco' 'Turmeric' 'Small millets' 'Sugarcane' 'Linseed' 'Banana'\n",
            " 'Rice' 'Cowpea(Lobia)' 'Sesamum' 'Sannhamp' 'Dry chillies'\n",
            " 'Peas & beans (Pulses)' 'Jowar' 'Ragi' 'Sunflower' 'Arhar/Tur' 'Lemon'\n",
            " 'Urad' 'Tomato' 'Barley' 'Other Fresh Fruits' 'Dry ginger' 'Potato'\n",
            " 'Gram' 'Castor seed' 'Arecanut' 'Soyabean' 'Niger seed' 'Bajra'\n",
            " 'Horse-gram' 'Safflower' 'Brinjal' 'Guar seed' 'Masoor' 'Tapioca'\n",
            " 'Jack Fruit' 'Pome Granet' 'Other  Rabi pulses' 'Korra' 'Coriander'\n",
            " 'Ginger' 'Cotton(lint)' 'other oilseeds' 'Mango' 'Jute' 'Mesta'\n",
            " 'Other Cereals & Millets' 'Grapes' 'Pulses total' 'Tea' 'Citrus Fruit'\n",
            " 'Samai' 'Cashewnut' 'Papaya' 'Blackgram' 'Moth' 'Orange'\n",
            " 'Other Vegetables' 'Black pepper' 'Oilseeds total' 'Khesari' 'Cardamom'\n",
            " 'Rubber' 'Cabbage' 'Paddy' 'other fibres' 'Yam' 'Total foodgrain'\n",
            " 'Bhindi' 'Cashewnut Raw' 'Beans & Mutter(Vegetable)' 'Pome Fruit'\n",
            " 'Ash Gourd' 'Drum Stick' 'other misc. pulses' 'Bottle Gourd' 'Pump Kin'\n",
            " 'Atcanut (Raw)' 'Turnip' 'Pineapple' 'Plums' 'Snak Guard' 'Cucumber'\n",
            " 'Other Citrus Fruit' 'Rajmash Kholar' 'Cauliflower' 'Bitter Gourd'\n",
            " 'Jute & mesta' 'Ribed Guard' 'Ricebean (nagadal)' 'Pear' 'Colocosia'\n",
            " 'Beet Root' 'Carrot' 'Lab-Lab' 'Water Melon' 'Kapas' 'Cond-spcs other'\n",
            " 'Varagu' 'Cashewnut Processed' 'Redish' 'Arcanut (Processed)' 'Bean'\n",
            " 'Litchi' 'Sapota' 'Peach' 'Apple' 'Ber' 'Lentil' 'Peas  (vegetable)'\n",
            " 'Perilla' 'Jobster']\n",
            "\n",
            "Unique values in Area :\n",
            "[81934.     257.     100.   ... 41988.   34477.   14685.71]\n",
            "\n",
            "Unique values in Production :\n",
            "[1.604250e+05 5.140000e+02 1.000000e+02 ... 8.858000e+03 1.053450e+05\n",
            " 1.855295e+04]\n",
            "\n"
          ]
        }
      ]
    },
    {
      "cell_type": "code",
      "source": [
        "#Droping Duplicate Values\n",
        "data.drop_duplicates(subset='Crop',inplace=True)"
      ],
      "metadata": {
        "id": "JDmsN6sI-LwQ"
      },
      "execution_count": 35,
      "outputs": []
    },
    {
      "cell_type": "markdown",
      "source": [
        "5.Creation of pivot table "
      ],
      "metadata": {
        "id": "wGWhLHhfCUvn"
      }
    },
    {
      "cell_type": "code",
      "source": [
        "table=pd.pivot(data,index=['Crop'],columns=['Season'],values=['Season'])"
      ],
      "metadata": {
        "id": "s1GouW5-CTyv"
      },
      "execution_count": 40,
      "outputs": []
    },
    {
      "cell_type": "code",
      "source": [
        "#Filling nan values as 0\n",
        "table.fillna(0,inplace=True)"
      ],
      "metadata": {
        "id": "wQdmtUNH-36Z"
      },
      "execution_count": 42,
      "outputs": []
    },
    {
      "cell_type": "code",
      "source": [
        "table"
      ],
      "metadata": {
        "colab": {
          "base_uri": "https://localhost:8080/",
          "height": 486
        },
        "id": "G-J_2zwrDMUl",
        "outputId": "03b6ffb7-176c-4af1-f26d-9e4e02565774"
      },
      "execution_count": 43,
      "outputs": [
        {
          "output_type": "execute_result",
          "data": {
            "text/plain": [
              "                         Season                                        \\\n",
              "Season              Autumn       Kharif       Rabi        Summer        \n",
              "Crop                                                                    \n",
              "Apple                         0            0            0           0   \n",
              "Arcanut (Processed)           0            0            0           0   \n",
              "Arecanut                      0            0            0           0   \n",
              "Arhar/Tur                     0  Kharif                 0           0   \n",
              "Ash Gourd                     0            0            0           0   \n",
              "...                         ...          ...          ...         ...   \n",
              "Wheat                         0            0  Rabi                  0   \n",
              "Yam                           0            0            0           0   \n",
              "other fibres                  0            0            0           0   \n",
              "other misc. pulses            0            0  Rabi                  0   \n",
              "other oilseeds                0            0  Rabi                  0   \n",
              "\n",
              "                                              \n",
              "Season               Whole Year  Winter       \n",
              "Crop                                          \n",
              "Apple                Whole Year            0  \n",
              "Arcanut (Processed)  Whole Year            0  \n",
              "Arecanut             Whole Year            0  \n",
              "Arhar/Tur                      0           0  \n",
              "Ash Gourd            Whole Year            0  \n",
              "...                          ...         ...  \n",
              "Wheat                          0           0  \n",
              "Yam                  Whole Year            0  \n",
              "other fibres         Whole Year            0  \n",
              "other misc. pulses             0           0  \n",
              "other oilseeds                 0           0  \n",
              "\n",
              "[122 rows x 6 columns]"
            ],
            "text/html": [
              "\n",
              "  <div id=\"df-2e4846d2-a512-4b0c-af40-d5bc02ff288c\">\n",
              "    <div class=\"colab-df-container\">\n",
              "      <div>\n",
              "<style scoped>\n",
              "    .dataframe tbody tr th:only-of-type {\n",
              "        vertical-align: middle;\n",
              "    }\n",
              "\n",
              "    .dataframe tbody tr th {\n",
              "        vertical-align: top;\n",
              "    }\n",
              "\n",
              "    .dataframe thead tr th {\n",
              "        text-align: left;\n",
              "    }\n",
              "\n",
              "    .dataframe thead tr:last-of-type th {\n",
              "        text-align: right;\n",
              "    }\n",
              "</style>\n",
              "<table border=\"1\" class=\"dataframe\">\n",
              "  <thead>\n",
              "    <tr>\n",
              "      <th></th>\n",
              "      <th colspan=\"6\" halign=\"left\">Season</th>\n",
              "    </tr>\n",
              "    <tr>\n",
              "      <th>Season</th>\n",
              "      <th>Autumn</th>\n",
              "      <th>Kharif</th>\n",
              "      <th>Rabi</th>\n",
              "      <th>Summer</th>\n",
              "      <th>Whole Year</th>\n",
              "      <th>Winter</th>\n",
              "    </tr>\n",
              "    <tr>\n",
              "      <th>Crop</th>\n",
              "      <th></th>\n",
              "      <th></th>\n",
              "      <th></th>\n",
              "      <th></th>\n",
              "      <th></th>\n",
              "      <th></th>\n",
              "    </tr>\n",
              "  </thead>\n",
              "  <tbody>\n",
              "    <tr>\n",
              "      <th>Apple</th>\n",
              "      <td>0</td>\n",
              "      <td>0</td>\n",
              "      <td>0</td>\n",
              "      <td>0</td>\n",
              "      <td>Whole Year</td>\n",
              "      <td>0</td>\n",
              "    </tr>\n",
              "    <tr>\n",
              "      <th>Arcanut (Processed)</th>\n",
              "      <td>0</td>\n",
              "      <td>0</td>\n",
              "      <td>0</td>\n",
              "      <td>0</td>\n",
              "      <td>Whole Year</td>\n",
              "      <td>0</td>\n",
              "    </tr>\n",
              "    <tr>\n",
              "      <th>Arecanut</th>\n",
              "      <td>0</td>\n",
              "      <td>0</td>\n",
              "      <td>0</td>\n",
              "      <td>0</td>\n",
              "      <td>Whole Year</td>\n",
              "      <td>0</td>\n",
              "    </tr>\n",
              "    <tr>\n",
              "      <th>Arhar/Tur</th>\n",
              "      <td>0</td>\n",
              "      <td>Kharif</td>\n",
              "      <td>0</td>\n",
              "      <td>0</td>\n",
              "      <td>0</td>\n",
              "      <td>0</td>\n",
              "    </tr>\n",
              "    <tr>\n",
              "      <th>Ash Gourd</th>\n",
              "      <td>0</td>\n",
              "      <td>0</td>\n",
              "      <td>0</td>\n",
              "      <td>0</td>\n",
              "      <td>Whole Year</td>\n",
              "      <td>0</td>\n",
              "    </tr>\n",
              "    <tr>\n",
              "      <th>...</th>\n",
              "      <td>...</td>\n",
              "      <td>...</td>\n",
              "      <td>...</td>\n",
              "      <td>...</td>\n",
              "      <td>...</td>\n",
              "      <td>...</td>\n",
              "    </tr>\n",
              "    <tr>\n",
              "      <th>Wheat</th>\n",
              "      <td>0</td>\n",
              "      <td>0</td>\n",
              "      <td>Rabi</td>\n",
              "      <td>0</td>\n",
              "      <td>0</td>\n",
              "      <td>0</td>\n",
              "    </tr>\n",
              "    <tr>\n",
              "      <th>Yam</th>\n",
              "      <td>0</td>\n",
              "      <td>0</td>\n",
              "      <td>0</td>\n",
              "      <td>0</td>\n",
              "      <td>Whole Year</td>\n",
              "      <td>0</td>\n",
              "    </tr>\n",
              "    <tr>\n",
              "      <th>other fibres</th>\n",
              "      <td>0</td>\n",
              "      <td>0</td>\n",
              "      <td>0</td>\n",
              "      <td>0</td>\n",
              "      <td>Whole Year</td>\n",
              "      <td>0</td>\n",
              "    </tr>\n",
              "    <tr>\n",
              "      <th>other misc. pulses</th>\n",
              "      <td>0</td>\n",
              "      <td>0</td>\n",
              "      <td>Rabi</td>\n",
              "      <td>0</td>\n",
              "      <td>0</td>\n",
              "      <td>0</td>\n",
              "    </tr>\n",
              "    <tr>\n",
              "      <th>other oilseeds</th>\n",
              "      <td>0</td>\n",
              "      <td>0</td>\n",
              "      <td>Rabi</td>\n",
              "      <td>0</td>\n",
              "      <td>0</td>\n",
              "      <td>0</td>\n",
              "    </tr>\n",
              "  </tbody>\n",
              "</table>\n",
              "<p>122 rows × 6 columns</p>\n",
              "</div>\n",
              "      <button class=\"colab-df-convert\" onclick=\"convertToInteractive('df-2e4846d2-a512-4b0c-af40-d5bc02ff288c')\"\n",
              "              title=\"Convert this dataframe to an interactive table.\"\n",
              "              style=\"display:none;\">\n",
              "        \n",
              "  <svg xmlns=\"http://www.w3.org/2000/svg\" height=\"24px\"viewBox=\"0 0 24 24\"\n",
              "       width=\"24px\">\n",
              "    <path d=\"M0 0h24v24H0V0z\" fill=\"none\"/>\n",
              "    <path d=\"M18.56 5.44l.94 2.06.94-2.06 2.06-.94-2.06-.94-.94-2.06-.94 2.06-2.06.94zm-11 1L8.5 8.5l.94-2.06 2.06-.94-2.06-.94L8.5 2.5l-.94 2.06-2.06.94zm10 10l.94 2.06.94-2.06 2.06-.94-2.06-.94-.94-2.06-.94 2.06-2.06.94z\"/><path d=\"M17.41 7.96l-1.37-1.37c-.4-.4-.92-.59-1.43-.59-.52 0-1.04.2-1.43.59L10.3 9.45l-7.72 7.72c-.78.78-.78 2.05 0 2.83L4 21.41c.39.39.9.59 1.41.59.51 0 1.02-.2 1.41-.59l7.78-7.78 2.81-2.81c.8-.78.8-2.07 0-2.86zM5.41 20L4 18.59l7.72-7.72 1.47 1.35L5.41 20z\"/>\n",
              "  </svg>\n",
              "      </button>\n",
              "      \n",
              "  <style>\n",
              "    .colab-df-container {\n",
              "      display:flex;\n",
              "      flex-wrap:wrap;\n",
              "      gap: 12px;\n",
              "    }\n",
              "\n",
              "    .colab-df-convert {\n",
              "      background-color: #E8F0FE;\n",
              "      border: none;\n",
              "      border-radius: 50%;\n",
              "      cursor: pointer;\n",
              "      display: none;\n",
              "      fill: #1967D2;\n",
              "      height: 32px;\n",
              "      padding: 0 0 0 0;\n",
              "      width: 32px;\n",
              "    }\n",
              "\n",
              "    .colab-df-convert:hover {\n",
              "      background-color: #E2EBFA;\n",
              "      box-shadow: 0px 1px 2px rgba(60, 64, 67, 0.3), 0px 1px 3px 1px rgba(60, 64, 67, 0.15);\n",
              "      fill: #174EA6;\n",
              "    }\n",
              "\n",
              "    [theme=dark] .colab-df-convert {\n",
              "      background-color: #3B4455;\n",
              "      fill: #D2E3FC;\n",
              "    }\n",
              "\n",
              "    [theme=dark] .colab-df-convert:hover {\n",
              "      background-color: #434B5C;\n",
              "      box-shadow: 0px 1px 3px 1px rgba(0, 0, 0, 0.15);\n",
              "      filter: drop-shadow(0px 1px 2px rgba(0, 0, 0, 0.3));\n",
              "      fill: #FFFFFF;\n",
              "    }\n",
              "  </style>\n",
              "\n",
              "      <script>\n",
              "        const buttonEl =\n",
              "          document.querySelector('#df-2e4846d2-a512-4b0c-af40-d5bc02ff288c button.colab-df-convert');\n",
              "        buttonEl.style.display =\n",
              "          google.colab.kernel.accessAllowed ? 'block' : 'none';\n",
              "\n",
              "        async function convertToInteractive(key) {\n",
              "          const element = document.querySelector('#df-2e4846d2-a512-4b0c-af40-d5bc02ff288c');\n",
              "          const dataTable =\n",
              "            await google.colab.kernel.invokeFunction('convertToInteractive',\n",
              "                                                     [key], {});\n",
              "          if (!dataTable) return;\n",
              "\n",
              "          const docLinkHtml = 'Like what you see? Visit the ' +\n",
              "            '<a target=\"_blank\" href=https://colab.research.google.com/notebooks/data_table.ipynb>data table notebook</a>'\n",
              "            + ' to learn more about interactive tables.';\n",
              "          element.innerHTML = '';\n",
              "          dataTable['output_type'] = 'display_data';\n",
              "          await google.colab.output.renderOutput(dataTable, element);\n",
              "          const docLink = document.createElement('div');\n",
              "          docLink.innerHTML = docLinkHtml;\n",
              "          element.appendChild(docLink);\n",
              "        }\n",
              "      </script>\n",
              "    </div>\n",
              "  </div>\n",
              "  "
            ]
          },
          "metadata": {},
          "execution_count": 43
        }
      ]
    },
    {
      "cell_type": "markdown",
      "source": [
        "Programs Using Numpy Library"
      ],
      "metadata": {
        "id": "3Lk4NxmnEQZZ"
      }
    },
    {
      "cell_type": "code",
      "source": [
        "import numpy as np\n",
        "#List to Array using numpy \n",
        "Crop_year=np.array(data['Crop_Year'])\n",
        "Production=np.array(data['Production'])\n",
        "Area=np.array(data['Area'])"
      ],
      "metadata": {
        "id": "Mk9F3ZZDEWSQ"
      },
      "execution_count": 49,
      "outputs": []
    },
    {
      "cell_type": "code",
      "source": [
        "#Finding Size\n",
        "print(f\"Size of Crop Year is {Crop_year.shape}\");\n",
        "print(f\"Size of Production is {Production.shape}\");\n",
        "print(f\"Size of Area is {Area.shape}\"); "
      ],
      "metadata": {
        "colab": {
          "base_uri": "https://localhost:8080/"
        },
        "id": "vBDlrjulEi5l",
        "outputId": "4a20c3e9-9179-4fb9-99a7-84f38fd5eb64"
      },
      "execution_count": 53,
      "outputs": [
        {
          "output_type": "stream",
          "name": "stdout",
          "text": [
            "Size of Crop Year is (122,)\n",
            "Size of Production is (122,)\n",
            "Size of Area is (122,)\n"
          ]
        }
      ]
    },
    {
      "cell_type": "code",
      "source": [
        "#Soring Using Numpy\n",
        "print(np.sort(Crop_year))"
      ],
      "metadata": {
        "colab": {
          "base_uri": "https://localhost:8080/"
        },
        "id": "b0HFYb4YFOpQ",
        "outputId": "c5c940c9-c58c-4db7-e19e-f5496e156e20"
      },
      "execution_count": 57,
      "outputs": [
        {
          "output_type": "stream",
          "name": "stdout",
          "text": [
            "[1997 1997 1997 1997 1997 1997 1997 1997 1998 1998 1998 1998 1999 1999\n",
            " 1999 1999 1999 2000 2000 2001 2001 2002 2002 2002 2002 2002 2002 2002\n",
            " 2002 2002 2002 2002 2002 2002 2002 2002 2002 2002 2002 2002 2002 2002\n",
            " 2002 2002 2002 2002 2002 2003 2003 2003 2003 2003 2003 2003 2003 2003\n",
            " 2003 2003 2003 2003 2003 2003 2003 2003 2003 2003 2003 2003 2003 2003\n",
            " 2003 2003 2003 2004 2004 2005 2005 2005 2005 2005 2006 2006 2007 2007\n",
            " 2007 2007 2007 2007 2008 2008 2008 2008 2009 2009 2010 2010 2010 2011\n",
            " 2011 2011 2012 2012 2012 2012 2012 2012 2012 2012 2013 2013 2013 2013\n",
            " 2013 2013 2013 2013 2013 2013 2013 2014 2014 2014]\n"
          ]
        }
      ]
    },
    {
      "cell_type": "code",
      "source": [
        "#Finding Dtyps\n",
        "print(f\"Date Type of Crop Year is {Crop_year.dtype}\")\n",
        "print(f\"Date Type of Production is {Production.dtype}\")\n",
        "print(f\"Date Type of Area is {Area.dtype}\")"
      ],
      "metadata": {
        "colab": {
          "base_uri": "https://localhost:8080/"
        },
        "id": "OAn_fCSVGVWs",
        "outputId": "1188d182-16ef-49e0-ce1b-b81fb4d3fe10"
      },
      "execution_count": 63,
      "outputs": [
        {
          "output_type": "stream",
          "name": "stdout",
          "text": [
            "Date Type of Crop Year is int64\n",
            "Date Type of Production is float64\n",
            "Date Type of Area is float64\n"
          ]
        }
      ]
    },
    {
      "cell_type": "code",
      "source": [
        "#Slicing Using Numpy \n",
        "print(Crop_year[:60])\n",
        "print(Production[:60])\n",
        "print(Area[:60])"
      ],
      "metadata": {
        "colab": {
          "base_uri": "https://localhost:8080/"
        },
        "id": "-z1XTOYKG22N",
        "outputId": "99d981a8-f6e6-437e-fa93-6bc06f4c22db"
      },
      "execution_count": 66,
      "outputs": [
        {
          "output_type": "stream",
          "name": "stdout",
          "text": [
            "[1997 2011 2012 2005 2006 2009 2010 2012 2005 2000 2011 2009 2007 2000\n",
            " 2010 2012 2012 2012 2011 2007 2003 1998 2005 2004 2008 2013 2013 2007\n",
            " 2003 2002 2002 2002 1998 1999 2004 1999 1999 2006 1998 1998 2007 2003\n",
            " 2010 2007 2005 2003 2012 1997 2002 2003 2013 2008 2008 2013 2001 2014\n",
            " 2005 2002 1997 2003]\n",
            "[1.60425e+05 5.14000e+02 1.00000e+02 4.57200e+03 2.71900e+03 1.00000e+00\n",
            " 3.21200e+03 7.80000e+01 1.07000e+02 3.09000e+02 2.85540e+04 2.11000e+02\n",
            " 1.27000e+02 1.09500e+04 6.58000e+02 1.52000e+03 7.96400e+03 5.00000e+00\n",
            " 4.56000e+02 2.75000e+02 4.30000e+02 3.00000e+02 1.97000e+02 3.50000e+01\n",
            " 1.41000e+02 2.29000e+02 4.40600e+03 4.63000e+02 3.05800e+03 5.65370e+04\n",
            " 2.24000e+04 3.62000e+02 9.80000e+01 9.90000e+03 2.05000e+02 3.38400e+03\n",
            " 1.90000e+03 3.10000e+01 5.33510e+04 1.19000e+03 2.90000e+01 0.00000e+00\n",
            " 1.60000e+01 3.03000e+02 7.30000e+01 2.30000e+01 6.70000e+01 4.00000e+03\n",
            " 1.60000e+01 8.25000e+02 6.20800e+03 1.59980e+04 4.87000e+02 2.85820e+04\n",
            " 4.11110e+04 2.00100e+03 1.00000e+03 0.00000e+00 6.35000e+02 3.10000e+02]\n",
            "[  1.   1.   1.   2.   3.   4.   5.   5.   5.   6.   6.   8.  10.  10.\n",
            "  11.  14.  16.  18.  18.  18.  19.  20.  20.  25.  26.  27.  30.  37.\n",
            "  37.  37.  38.  41.  42.  46.  47.  65.  70.  83.  95.  99. 100. 100.\n",
            " 106. 111. 115. 121. 125. 149. 150. 150. 165. 166. 177. 186. 200. 223.\n",
            " 224. 234. 257. 266.]\n"
          ]
        }
      ]
    },
    {
      "cell_type": "markdown",
      "source": [
        "Programs for Statistics Library"
      ],
      "metadata": {
        "id": "UyHHEq5gIPkv"
      }
    },
    {
      "cell_type": "code",
      "source": [
        "import statistics as ss"
      ],
      "metadata": {
        "id": "iNmu3AsDIXBN"
      },
      "execution_count": 67,
      "outputs": []
    },
    {
      "cell_type": "code",
      "source": [
        "#Finding Mean\n",
        "print(f\"Mean of Production is {ss.mean(data['Production'])}\")\n",
        "print(f\"Mean of Production is {ss.mean(data['Area'])}\")"
      ],
      "metadata": {
        "colab": {
          "base_uri": "https://localhost:8080/"
        },
        "id": "lxLvzwymIcOk",
        "outputId": "479f24b1-6c4e-4691-b43e-49b713e14057"
      },
      "execution_count": 78,
      "outputs": [
        {
          "output_type": "stream",
          "name": "stdout",
          "text": [
            "Mean of Production is 15588.745983606557\n",
            "Mean of Production is 8495.483606557376\n"
          ]
        }
      ]
    },
    {
      "cell_type": "code",
      "source": [
        "#Finding Mode\n",
        "print(f\"Mode of Production is {ss.mode(data['Production'])}\")\n",
        "print(f\"Mode of Production is {ss.mode(data['Area'])}\")"
      ],
      "metadata": {
        "colab": {
          "base_uri": "https://localhost:8080/"
        },
        "id": "UUzwpsprIfKg",
        "outputId": "a8b2a056-42f8-43fe-d85e-e5d45ffa06e3"
      },
      "execution_count": 79,
      "outputs": [
        {
          "output_type": "stream",
          "name": "stdout",
          "text": [
            "Mode of Production is 0.0\n",
            "Mode of Production is 1.0\n"
          ]
        }
      ]
    },
    {
      "cell_type": "code",
      "source": [
        "#Finding Median\n",
        "print(f\"Median of Production is {ss.median(data['Production'])}\")\n",
        "print(f\"Median of Area is {ss.median(data['Area'])}\")"
      ],
      "metadata": {
        "colab": {
          "base_uri": "https://localhost:8080/"
        },
        "id": "4VyeUFpYJm6p",
        "outputId": "f21193a1-239d-4d51-f99f-044b160b582e"
      },
      "execution_count": 81,
      "outputs": [
        {
          "output_type": "stream",
          "name": "stdout",
          "text": [
            "Median of Production is 244.5\n",
            "Median of Production is 279.0\n"
          ]
        }
      ]
    },
    {
      "cell_type": "code",
      "source": [
        "#Finding Variance\n",
        "print(f\"Variance of Production is {ss.variance(data['Production'])}\")\n",
        "print(f\"Variance of Arera is {ss.variance(data['Area'])}\")"
      ],
      "metadata": {
        "colab": {
          "base_uri": "https://localhost:8080/"
        },
        "id": "I74vJR2TJv59",
        "outputId": "bea1c064-cfff-4efe-8fcb-e8a614e488e0"
      },
      "execution_count": 83,
      "outputs": [
        {
          "output_type": "stream",
          "name": "stdout",
          "text": [
            "Variance of Production is 8182668400.936762\n",
            "Variance of Arera is 2051290399.9873326\n"
          ]
        }
      ]
    },
    {
      "cell_type": "markdown",
      "source": [
        "Programs for visulization using matplotlib"
      ],
      "metadata": {
        "id": "yZ0kUkNdKm7_"
      }
    },
    {
      "cell_type": "code",
      "source": [
        "import matplotlib.pyplot as plt"
      ],
      "metadata": {
        "id": "Cy5KjUuFKlpU"
      },
      "execution_count": 85,
      "outputs": []
    },
    {
      "cell_type": "code",
      "source": [
        "#Scatter Plot\n",
        "plt.figure(facecolor='pink')\n",
        "plt.scatter(data['Production'],data['Area'],c='green')\n",
        "ax=plt.axes()\n",
        "ax.set_xlabel(\"Production\")\n",
        "ax.set_ylabel(\"Area\")\n",
        "ax.set_facecolor('yellow')\n"
      ],
      "metadata": {
        "colab": {
          "base_uri": "https://localhost:8080/",
          "height": 334
        },
        "id": "QKBaLEY3KtE0",
        "outputId": "de064493-c730-439b-e3ad-bd8c3bdcfb0c"
      },
      "execution_count": 103,
      "outputs": [
        {
          "output_type": "stream",
          "name": "stderr",
          "text": [
            "<ipython-input-103-26cd5617a333>:5: MatplotlibDeprecationWarning: Adding an axes using the same arguments as a previous axes currently reuses the earlier instance.  In a future version, a new instance will always be created and returned.  Meanwhile, this warning can be suppressed, and the future behavior ensured, by passing a unique label to each axes instance.\n",
            "  ax=plt.axes()\n"
          ]
        },
        {
          "output_type": "display_data",
          "data": {
            "text/plain": [
              "<Figure size 432x288 with 1 Axes>"
            ],
            "image/png": "[encoded data removed]"
          },
          "metadata": {}
        }
      ]
    },
    {
      "cell_type": "code",
      "source": [
        "#bargraph\n",
        "plt.bar(data['Season'],data['Production'])"
      ],
      "metadata": {
        "colab": {
          "base_uri": "https://localhost:8080/",
          "height": 282
        },
        "id": "Yll6aPumK4wP",
        "outputId": "894e0877-6af3-418b-d917-953a41d49c3a"
      },
      "execution_count": 105,
      "outputs": [
        {
          "output_type": "execute_result",
          "data": {
            "text/plain": [
              "<BarContainer object of 122 artists>"
            ]
          },
          "metadata": {},
          "execution_count": 105
        },
        {
          "output_type": "display_data",
          "data": {
            "text/plain": [
              "<Figure size 432x288 with 1 Axes>"
            ],
            "image/png": "[encoded data removed]"
          },
          "metadata": {
            "needs_background": "light"
          }
        }
      ]
    },
    {
      "cell_type": "code",
      "source": [],
      "metadata": {
        "id": "zXt_yre9M31t"
      },
      "execution_count": 129,
      "outputs": []
    },
    {
      "cell_type": "code",
      "source": [],
      "metadata": {
        "id": "RoAl68JONMGj"
      },
      "execution_count": 118,
      "outputs": []
    },
    {
      "cell_type": "code",
      "source": [
        "#Pie Plot\n",
        "index=data['Season'].value_counts().index\n",
        "value=data['Season'].value_counts().values\n",
        "plt.pie(value,labels=index)"
      ],
      "metadata": {
        "colab": {
          "base_uri": "https://localhost:8080/",
          "height": 456
        },
        "id": "0qnK7VmVPGPD",
        "outputId": "f22a49a2-aa9f-4be0-f90d-56b723b648fa"
      },
      "execution_count": 121,
      "outputs": [
        {
          "output_type": "execute_result",
          "data": {
            "text/plain": [
              "([<matplotlib.patches.Wedge at 0x7f551c1c18b0>,\n",
              "  <matplotlib.patches.Wedge at 0x7f551c1c1d60>,\n",
              "  <matplotlib.patches.Wedge at 0x7f551c1cd220>,\n",
              "  <matplotlib.patches.Wedge at 0x7f551c1cd6a0>,\n",
              "  <matplotlib.patches.Wedge at 0x7f551c1cdb20>,\n",
              "  <matplotlib.patches.Wedge at 0x7f551c1cdfa0>],\n",
              " [Text(-0.028322671264655135, 1.0996353151351745, 'Whole Year '),\n",
              "  Text(-0.6602357747732773, -0.8798231195584317, 'Kharif     '),\n",
              "  Text(0.7677385085780328, -0.7877674672429537, 'Rabi       '),\n",
              "  Text(1.0767412377616956, -0.22500734855424553, 'Summer     '),\n",
              "  Text(1.0941698545612457, -0.11310318019146412, 'Autumn     '),\n",
              "  Text(1.0996353119862028, -0.028322793524059912, 'Winter     ')])"
            ]
          },
          "metadata": {},
          "execution_count": 121
        },
        {
          "output_type": "display_data",
          "data": {
            "text/plain": [
              "<Figure size 432x288 with 1 Axes>"
            ],
            "image/png": "[encoded data removed]"
          },
          "metadata": {}
        }
      ]
    },
    {
      "cell_type": "code",
      "source": [],
      "metadata": {
        "id": "KuUidELPPhP4"
      },
      "execution_count": null,
      "outputs": []
    },
    {
      "cell_type": "markdown",
      "source": [
        "Ploting Using Seaborn"
      ],
      "metadata": {
        "id": "HM8ungaaP7A9"
      }
    },
    {
      "cell_type": "code",
      "source": [],
      "metadata": {
        "id": "-l0O9nJgTKFV"
      },
      "execution_count": 138,
      "outputs": []
    },
    {
      "cell_type": "code",
      "source": [],
      "metadata": {
        "id": "52ISJ5kTP9v0"
      },
      "execution_count": 138,
      "outputs": []
    },
    {
      "cell_type": "code",
      "source": [],
      "metadata": {
        "id": "nPa187ieQCMT"
      },
      "execution_count": 138,
      "outputs": []
    },
    {
      "cell_type": "code",
      "source": [],
      "metadata": {
        "id": "Do62qJLRQDlz"
      },
      "execution_count": 138,
      "outputs": []
    },
    {
      "cell_type": "code",
      "source": [],
      "metadata": {
        "id": "c0UvmGa-QG1H"
      },
      "execution_count": 138,
      "outputs": []
    },
    {
      "cell_type": "code",
      "source": [],
      "metadata": {
        "id": "Fi3OVqXBQRX0"
      },
      "execution_count": 138,
      "outputs": []
    },
    {
      "cell_type": "code",
      "source": [],
      "metadata": {
        "id": "uA3LqJ-JQ0hc"
      },
      "execution_count": 138,
      "outputs": []
    },
    {
      "cell_type": "code",
      "source": [],
      "metadata": {
        "id": "7gfHonjDSUJ3"
      },
      "execution_count": null,
      "outputs": []
    }
  ]
}